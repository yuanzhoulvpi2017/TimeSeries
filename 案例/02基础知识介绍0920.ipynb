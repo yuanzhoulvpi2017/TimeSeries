{
 "cells": [
  {
   "cell_type": "markdown",
   "metadata": {
    "pycharm": {
     "name": "#%% md\n"
    }
   },
   "source": [
    "# 时间序列中最基本的概念\n",
    "很多人看不懂时间序列的公式、很多人看不懂时间序列的数据、代码、数学函数。\n",
    "本文就是将数据、公式、代码、数学函数串联起来，让你不仅仅了解抽象的数学公式，也能将抽象的内容联系到具体的数据和python代码中。\n"
   ]
  },
  {
   "cell_type": "code",
   "execution_count": 9,
   "metadata": {
    "pycharm": {
     "name": "#%%\n"
    }
   },
   "outputs": [],
   "source": [
    "import numpy as np\n",
    "import pandas as pd\n",
    "import datetime\n",
    "import matplotlib.pyplot as plt"
   ]
  },
  {
   "cell_type": "code",
   "execution_count": 10,
   "metadata": {
    "pycharm": {
     "name": "#%%\n"
    }
   },
   "outputs": [
    {
     "data": {
      "text/html": [
       "<div>\n",
       "<style scoped>\n",
       "    .dataframe tbody tr th:only-of-type {\n",
       "        vertical-align: middle;\n",
       "    }\n",
       "\n",
       "    .dataframe tbody tr th {\n",
       "        vertical-align: top;\n",
       "    }\n",
       "\n",
       "    .dataframe thead th {\n",
       "        text-align: right;\n",
       "    }\n",
       "</style>\n",
       "<table border=\"1\" class=\"dataframe\">\n",
       "  <thead>\n",
       "    <tr style=\"text-align: right;\">\n",
       "      <th></th>\n",
       "      <th>value</th>\n",
       "    </tr>\n",
       "    <tr>\n",
       "      <th>year</th>\n",
       "      <th></th>\n",
       "    </tr>\n",
       "  </thead>\n",
       "  <tbody>\n",
       "    <tr>\n",
       "      <th>2001</th>\n",
       "      <td>24123</td>\n",
       "    </tr>\n",
       "    <tr>\n",
       "      <th>2002</th>\n",
       "      <td>25159</td>\n",
       "    </tr>\n",
       "    <tr>\n",
       "      <th>2003</th>\n",
       "      <td>26230</td>\n",
       "    </tr>\n",
       "    <tr>\n",
       "      <th>2004</th>\n",
       "      <td>27293</td>\n",
       "    </tr>\n",
       "  </tbody>\n",
       "</table>\n",
       "</div>"
      ],
      "text/plain": [
       "      value\n",
       "year       \n",
       "2001  24123\n",
       "2002  25159\n",
       "2003  26230\n",
       "2004  27293"
      ]
     },
     "execution_count": 10,
     "metadata": {},
     "output_type": "execute_result"
    }
   ],
   "source": [
    "data = pd.read_csv(\"../datasets/近20年城镇就业人员数据(万人).csv\", index_col=['year'])\n",
    "data.head(4)"
   ]
  },
  {
   "cell_type": "code",
   "execution_count": 11,
   "metadata": {
    "pycharm": {
     "name": "#%%\n"
    }
   },
   "outputs": [
    {
     "data": {
      "text/plain": [
       "[Text(2001, 0, '2001'),\n",
       " Text(2002, 0, '2002'),\n",
       " Text(2003, 0, '2003'),\n",
       " Text(2004, 0, '2004'),\n",
       " Text(2005, 0, '2005'),\n",
       " Text(2006, 0, '2006'),\n",
       " Text(2007, 0, '2007'),\n",
       " Text(2008, 0, '2008'),\n",
       " Text(2009, 0, '2009'),\n",
       " Text(2010, 0, '2010'),\n",
       " Text(2011, 0, '2011'),\n",
       " Text(2012, 0, '2012'),\n",
       " Text(2013, 0, '2013'),\n",
       " Text(2014, 0, '2014'),\n",
       " Text(2015, 0, '2015'),\n",
       " Text(2016, 0, '2016'),\n",
       " Text(2017, 0, '2017'),\n",
       " Text(2018, 0, '2018'),\n",
       " Text(2019, 0, '2019'),\n",
       " Text(2020, 0, '2020')]"
      ]
     },
     "execution_count": 11,
     "metadata": {},
     "output_type": "execute_result"
    },
    {
     "data": {
      "image/png": "[encoded data removed]",
      "text/plain": [
       "<Figure size 720x288 with 1 Axes>"
      ]
     },
     "metadata": {
      "needs_background": "light"
     },
     "output_type": "display_data"
    }
   ],
   "source": [
    "# 可视化\n",
    "fig, ax = plt.subplots(figsize=(10, 4))\n",
    "ax.plot(data.index, data['value'], 'o-')\n",
    "ax.set_title(u\"Data on urban employees in the past 20 years\")\n",
    "ax.set_ylabel(\"Ten thousand people\")\n",
    "ax.set_xlabel(\"year\")\n",
    "ax.set_xticks(data.index)\n",
    "ax.set_xticklabels(data.index, rotation=45)"
   ]
  },
  {
   "cell_type": "markdown",
   "metadata": {
    "pycharm": {
     "name": "#%% md\n"
    }
   },
   "source": [
    "# lag（滞后）\n",
    "经常在时间序列里面可以看到lag这个东西，大白话就是叫滞后；\n",
    "举个例子来说：\n",
    "\n",
    "1. lag1代表滞后数据1项，也就是2002年的数据滞后1年得到的就是2001年的数据；2003年的数据滞后1年就是2002年的数据；\n",
    "2. lag2代表滞后数据2项，也就是2003年的数据滞后2年得到2001年的数据；2004年的数据滞后2年就是2002年的数据；\n",
    "3. 依次类推，滞后数据就是这么计算的。\n",
    "\n",
    "下面使用python对上面的【近20年城镇就业人员数据(万人)】数据做个滞后处理。"
   ]
  },
  {
   "cell_type": "code",
   "execution_count": 12,
   "metadata": {
    "pycharm": {
     "name": "#%%\n"
    }
   },
   "outputs": [
    {
     "data": {
      "text/html": [
       "<div>\n",
       "<style scoped>\n",
       "    .dataframe tbody tr th:only-of-type {\n",
       "        vertical-align: middle;\n",
       "    }\n",
       "\n",
       "    .dataframe tbody tr th {\n",
       "        vertical-align: top;\n",
       "    }\n",
       "\n",
       "    .dataframe thead th {\n",
       "        text-align: right;\n",
       "    }\n",
       "</style>\n",
       "<table border=\"1\" class=\"dataframe\">\n",
       "  <thead>\n",
       "    <tr style=\"text-align: right;\">\n",
       "      <th></th>\n",
       "      <th>value</th>\n",
       "      <th>value_lag1</th>\n",
       "      <th>value_lag2</th>\n",
       "      <th>value_lag3</th>\n",
       "      <th>value_lag4</th>\n",
       "      <th>value_lag5</th>\n",
       "    </tr>\n",
       "    <tr>\n",
       "      <th>year</th>\n",
       "      <th></th>\n",
       "      <th></th>\n",
       "      <th></th>\n",
       "      <th></th>\n",
       "      <th></th>\n",
       "      <th></th>\n",
       "    </tr>\n",
       "  </thead>\n",
       "  <tbody>\n",
       "    <tr>\n",
       "      <th>2001</th>\n",
       "      <td>24123</td>\n",
       "      <td>NaN</td>\n",
       "      <td>NaN</td>\n",
       "      <td>NaN</td>\n",
       "      <td>NaN</td>\n",
       "      <td>NaN</td>\n",
       "    </tr>\n",
       "    <tr>\n",
       "      <th>2002</th>\n",
       "      <td>25159</td>\n",
       "      <td>24123.0</td>\n",
       "      <td>NaN</td>\n",
       "      <td>NaN</td>\n",
       "      <td>NaN</td>\n",
       "      <td>NaN</td>\n",
       "    </tr>\n",
       "    <tr>\n",
       "      <th>2003</th>\n",
       "      <td>26230</td>\n",
       "      <td>25159.0</td>\n",
       "      <td>24123.0</td>\n",
       "      <td>NaN</td>\n",
       "      <td>NaN</td>\n",
       "      <td>NaN</td>\n",
       "    </tr>\n",
       "    <tr>\n",
       "      <th>2004</th>\n",
       "      <td>27293</td>\n",
       "      <td>26230.0</td>\n",
       "      <td>25159.0</td>\n",
       "      <td>24123.0</td>\n",
       "      <td>NaN</td>\n",
       "      <td>NaN</td>\n",
       "    </tr>\n",
       "    <tr>\n",
       "      <th>2005</th>\n",
       "      <td>28389</td>\n",
       "      <td>27293.0</td>\n",
       "      <td>26230.0</td>\n",
       "      <td>25159.0</td>\n",
       "      <td>24123.0</td>\n",
       "      <td>NaN</td>\n",
       "    </tr>\n",
       "    <tr>\n",
       "      <th>2006</th>\n",
       "      <td>29630</td>\n",
       "      <td>28389.0</td>\n",
       "      <td>27293.0</td>\n",
       "      <td>26230.0</td>\n",
       "      <td>25159.0</td>\n",
       "      <td>24123.0</td>\n",
       "    </tr>\n",
       "    <tr>\n",
       "      <th>2007</th>\n",
       "      <td>30953</td>\n",
       "      <td>29630.0</td>\n",
       "      <td>28389.0</td>\n",
       "      <td>27293.0</td>\n",
       "      <td>26230.0</td>\n",
       "      <td>25159.0</td>\n",
       "    </tr>\n",
       "    <tr>\n",
       "      <th>2008</th>\n",
       "      <td>32103</td>\n",
       "      <td>30953.0</td>\n",
       "      <td>29630.0</td>\n",
       "      <td>28389.0</td>\n",
       "      <td>27293.0</td>\n",
       "      <td>26230.0</td>\n",
       "    </tr>\n",
       "    <tr>\n",
       "      <th>2009</th>\n",
       "      <td>33322</td>\n",
       "      <td>32103.0</td>\n",
       "      <td>30953.0</td>\n",
       "      <td>29630.0</td>\n",
       "      <td>28389.0</td>\n",
       "      <td>27293.0</td>\n",
       "    </tr>\n",
       "    <tr>\n",
       "      <th>2010</th>\n",
       "      <td>34687</td>\n",
       "      <td>33322.0</td>\n",
       "      <td>32103.0</td>\n",
       "      <td>30953.0</td>\n",
       "      <td>29630.0</td>\n",
       "      <td>28389.0</td>\n",
       "    </tr>\n",
       "  </tbody>\n",
       "</table>\n",
       "</div>"
      ],
      "text/plain": [
       "      value  value_lag1  value_lag2  value_lag3  value_lag4  value_lag5\n",
       "year                                                                   \n",
       "2001  24123         NaN         NaN         NaN         NaN         NaN\n",
       "2002  25159     24123.0         NaN         NaN         NaN         NaN\n",
       "2003  26230     25159.0     24123.0         NaN         NaN         NaN\n",
       "2004  27293     26230.0     25159.0     24123.0         NaN         NaN\n",
       "2005  28389     27293.0     26230.0     25159.0     24123.0         NaN\n",
       "2006  29630     28389.0     27293.0     26230.0     25159.0     24123.0\n",
       "2007  30953     29630.0     28389.0     27293.0     26230.0     25159.0\n",
       "2008  32103     30953.0     29630.0     28389.0     27293.0     26230.0\n",
       "2009  33322     32103.0     30953.0     29630.0     28389.0     27293.0\n",
       "2010  34687     33322.0     32103.0     30953.0     29630.0     28389.0"
      ]
     },
     "execution_count": 12,
     "metadata": {},
     "output_type": "execute_result"
    }
   ],
   "source": [
    "# 使用pandas的shift可以做lag\n",
    "data1 = data.copy()\n",
    "# data1['value_lag1'] = data1['value'].shift(1)\n",
    "# data1['value_lag2'] =  data1['value'].shift(2)\n",
    "for i in [1, 2, 3, 4, 5]:\n",
    "    data1[f\"value_lag{i}\"] = data1['value'].shift(i)\n",
    "data1.head(10)"
   ]
  },
  {
   "cell_type": "markdown",
   "metadata": {
    "pycharm": {
     "name": "#%% md\n"
    }
   },
   "source": [
    "1. 因为2001年之前是没有数据了，所以2001年滞后一项得到的数据是空数据；\n",
    "2. 因为2002年之前是没有数据，所以2002年滞后两项也是没有数据的。\n",
    "3. 依次类推。\n",
    "\n",
    "# 时间序列的公式\n",
    "\n",
    "经常看到时间序列的公式写的乱七八糟的，这是一堆公式，那是一堆公式，活活把人绕晕。现在为了我们说明需要，我们定义几个简单的公式：\n",
    "\n",
    "假设我们的时间序列是`value = [4,3,2,10,3]`。我们把这个时间序列定义为 $ X_{t} $；\n",
    "那么这个时间序列里面每一个元素对应的符号依次是：$x_1$、$x_2$、$x_3$等。 \n",
    "\n",
    "如果$X_t$做了lag1，得到的时间序列为`value lag1=[nan, 4,3,2,10]`，记这个新的时间序列为$X_{t-1}$。\n",
    "\n",
    "如果$X_t$做了lag2，得到的时间序列为`value lag2=[nan,nan, 4,3,2]`，记这个新的时间序列为$X_{t-2}$。\n",
    "\n",
    "以此类推，就是一个简单的时间序列公式了。\n",
    "\n",
    "# 统计基础知识\n",
    "\n",
    "1. 均值:$\\mu = \\frac{\\sum X}{n}$\n",
    "\n",
    "\n",
    "2. 方差：$S^2 = \\frac{\\sum(X-\\mu)^2}{n-1}$\n",
    "\n",
    "\n",
    "3. 协方差：$Cov(X,Y) = E\\{|EX - X| |EY-Y|\\}$\n",
    "\n",
    "\n",
    "4. 相关系数: $\\gamma(X, Y) = \\frac{Cov(X, Y)}{\\sqrt{Var(X)Var(Y)}}$\n",
    "\n",
    "# 自相关系数\n",
    "\n",
    "## 自相关基础计算\n",
    "在了解上面的【统计基础知识】后，再理解自相关性基本上就不难了，自相关是变量与自身在不同时间滞后下的相关性。对于延迟$k$阶的时间序列。自协方差为$c_k$，自相关性系数为$\\gamma_k$\n",
    "\n",
    "1. $c_k = \\frac{1}{n}\\sum_{i=1}^{n-k}(x_t - \\overline{x})(x_{t+k}-\\overline{x})$\n",
    "\n",
    "\n",
    "2. $\\gamma_k = \\frac{c_k}{c_0}$\n",
    "\n",
    "### 调用包计算acf数值"
   ]
  },
  {
   "cell_type": "code",
   "execution_count": 60,
   "metadata": {
    "pycharm": {
     "name": "#%%\n"
    }
   },
   "outputs": [],
   "source": [
    "# 使用statsmodels包的acf函数\n",
    "from statsmodels.tsa.stattools import acf"
   ]
  },
  {
   "cell_type": "markdown",
   "metadata": {
    "pycharm": {
     "name": "#%% md\n"
    }
   },
   "source": [
    "### 自己根据公式写函数"
   ]
  },
  {
   "cell_type": "code",
   "execution_count": 61,
   "metadata": {
    "pycharm": {
     "name": "#%%\n"
    }
   },
   "outputs": [],
   "source": [
    "def cal_acf(x, nlags):\n",
    "    \"\"\"\n",
    "    按照公式自己写个acf函数\n",
    "    只是用来帮助理解，不建议用在别的环境中\n",
    "    \"\"\"\n",
    "    x = np.array(x)\n",
    "    mean_x = np.mean(x)\n",
    "    length_x = x.shape[0]\n",
    "    c_0 = np.mean((x-mean_x) **2)\n",
    "    c_k = np.sum((x[:(length_x-nlags)] - mean_x) * (x[nlags:] - mean_x)) / length_x\n",
    "    r_k = c_k / c_0\n",
    "    return r_k"
   ]
  },
  {
   "cell_type": "markdown",
   "metadata": {
    "pycharm": {
     "name": "#%% md\n"
    }
   },
   "source": [
    "### 两种结果对比"
   ]
  },
  {
   "cell_type": "code",
   "execution_count": 62,
   "metadata": {
    "pycharm": {
     "name": "#%%\n"
    }
   },
   "outputs": [
    {
     "name": "stderr",
     "output_type": "stream",
     "text": [
      "/opt/anaconda3/envs/devc/lib/python3.8/site-packages/statsmodels/tsa/stattools.py:667: FutureWarning: fft=True will become the default after the release of the 0.12 release of statsmodels. To suppress this warning, explicitly set fft=False.\n",
      "  warnings.warn(\n"
     ]
    },
    {
     "data": {
      "text/html": [
       "<div>\n",
       "<style scoped>\n",
       "    .dataframe tbody tr th:only-of-type {\n",
       "        vertical-align: middle;\n",
       "    }\n",
       "\n",
       "    .dataframe tbody tr th {\n",
       "        vertical-align: top;\n",
       "    }\n",
       "\n",
       "    .dataframe thead th {\n",
       "        text-align: right;\n",
       "    }\n",
       "</style>\n",
       "<table border=\"1\" class=\"dataframe\">\n",
       "  <thead>\n",
       "    <tr style=\"text-align: right;\">\n",
       "      <th></th>\n",
       "      <th>index</th>\n",
       "      <th>value_by_myself</th>\n",
       "      <th>value_by_statsmodels</th>\n",
       "    </tr>\n",
       "  </thead>\n",
       "  <tbody>\n",
       "    <tr>\n",
       "      <th>0</th>\n",
       "      <td>0</td>\n",
       "      <td>1.000000</td>\n",
       "      <td>1.000000</td>\n",
       "    </tr>\n",
       "    <tr>\n",
       "      <th>1</th>\n",
       "      <td>1</td>\n",
       "      <td>0.858910</td>\n",
       "      <td>0.858910</td>\n",
       "    </tr>\n",
       "    <tr>\n",
       "      <th>2</th>\n",
       "      <td>2</td>\n",
       "      <td>0.715601</td>\n",
       "      <td>0.715601</td>\n",
       "    </tr>\n",
       "    <tr>\n",
       "      <th>3</th>\n",
       "      <td>3</td>\n",
       "      <td>0.570864</td>\n",
       "      <td>0.570864</td>\n",
       "    </tr>\n",
       "    <tr>\n",
       "      <th>4</th>\n",
       "      <td>4</td>\n",
       "      <td>0.427266</td>\n",
       "      <td>0.427266</td>\n",
       "    </tr>\n",
       "    <tr>\n",
       "      <th>5</th>\n",
       "      <td>5</td>\n",
       "      <td>0.287384</td>\n",
       "      <td>0.287384</td>\n",
       "    </tr>\n",
       "    <tr>\n",
       "      <th>6</th>\n",
       "      <td>6</td>\n",
       "      <td>0.154147</td>\n",
       "      <td>0.154147</td>\n",
       "    </tr>\n",
       "    <tr>\n",
       "      <th>7</th>\n",
       "      <td>7</td>\n",
       "      <td>0.031085</td>\n",
       "      <td>0.031085</td>\n",
       "    </tr>\n",
       "    <tr>\n",
       "      <th>8</th>\n",
       "      <td>8</td>\n",
       "      <td>-0.082773</td>\n",
       "      <td>-0.082773</td>\n",
       "    </tr>\n",
       "    <tr>\n",
       "      <th>9</th>\n",
       "      <td>9</td>\n",
       "      <td>-0.184306</td>\n",
       "      <td>-0.184306</td>\n",
       "    </tr>\n",
       "    <tr>\n",
       "      <th>10</th>\n",
       "      <td>10</td>\n",
       "      <td>-0.269526</td>\n",
       "      <td>-0.269526</td>\n",
       "    </tr>\n",
       "  </tbody>\n",
       "</table>\n",
       "</div>"
      ],
      "text/plain": [
       "    index  value_by_myself  value_by_statsmodels\n",
       "0       0         1.000000              1.000000\n",
       "1       1         0.858910              0.858910\n",
       "2       2         0.715601              0.715601\n",
       "3       3         0.570864              0.570864\n",
       "4       4         0.427266              0.427266\n",
       "5       5         0.287384              0.287384\n",
       "6       6         0.154147              0.154147\n",
       "7       7         0.031085              0.031085\n",
       "8       8        -0.082773             -0.082773\n",
       "9       9        -0.184306             -0.184306\n",
       "10     10        -0.269526             -0.269526"
      ]
     },
     "execution_count": 62,
     "metadata": {},
     "output_type": "execute_result"
    }
   ],
   "source": [
    "# 结果汇总\n",
    "pd.DataFrame({'index':np.arange(11),\n",
    "             'value_by_myself':[cal_acf(x=data['value'], nlags=i) for i in range(11)],\n",
    "             'value_by_statsmodels':acf(data.value,nlags=10)})\n"
   ]
  },
  {
   "cell_type": "markdown",
   "metadata": {
    "pycharm": {
     "name": "#%% md\n"
    }
   },
   "source": [
    "## 自相关系数画图\n",
    "\n",
    "画图有两种方法：\n",
    "1. 直接使用`statsmodels`的`plot_acf`;\n",
    "2. 使用`acf`函数来计算数据，得到数据后再进行可视化，这种一般便于自己定制，也方便自己做更多的细节调整之类的。"
   ]
  },
  {
   "cell_type": "code",
   "execution_count": 63,
   "metadata": {
    "pycharm": {
     "name": "#%%\n"
    }
   },
   "outputs": [
    {
     "data": {
      "text/plain": [
       "(-1.0, 15.5)"
      ]
     },
     "execution_count": 63,
     "metadata": {},
     "output_type": "execute_result"
    },
    {
     "data": {
      "image/png": "[encoded data removed]",
      "text/plain": [
       "<Figure size 1000x600 with 2 Axes>"
      ]
     },
     "metadata": {
      "needs_background": "light"
     },
     "output_type": "display_data"
    }
   ],
   "source": [
    "# 自己画一个\n",
    "# 自己计算\n",
    "acf_value, acf_interval, _, _ = acf(data.value,nlags=14,qstat=True,alpha=0.05, fft=False)\n",
    "\n",
    "xlabel = np.arange(start=0, stop=acf_value.shape[0], dtype='float')\n",
    "\n",
    "fig, ax = plt.subplots(nrows=2, figsize=(10,6), sharex=True, dpi=100)\n",
    "ax[0].hlines(y=0, xmin=np.min(xlabel)-2, xmax=np.max(xlabel)+2, colors='red', linewidth=0.5)\n",
    "ax[0].scatter(x=xlabel, y=acf_value, c='red')\n",
    "ax[0].vlines(x = xlabel, ymin=0, ymax=acf_value, colors='red', linewidth=0.5)\n",
    "xlabel[1] -= 0.5\n",
    "xlabel[-1] += 0.5\n",
    "ax[0].fill_between(x=xlabel[1:], y1=acf_interval[1:,0] - acf_value[1:], y2=acf_interval[1:, 1]-acf_value[1:], alpha=0.25, linewidth=0, color='red')\n",
    "ax[0].set_title(\"acf plot by myself\")\n",
    "\n",
    "\n",
    "# 使用别人写好的函数\n",
    "\n",
    "from statsmodels.graphics.tsaplots import plot_acf\n",
    "plot_acf(data['value'], ax=ax[1])\n",
    "ax[1].set_title(\"acf plot by statsmodels\")\n",
    "ax[1].set_xlim(-1, np.max(xlabel)+1)"
   ]
  },
  {
   "cell_type": "markdown",
   "metadata": {
    "pycharm": {
     "name": "#%% md\n"
    }
   },
   "source": [
    "# 偏自相关系数\n",
    "\n",
    "偏自相关系数可以被看成一种条件相关，两个变量之间有相关性是基于一系列的其他的条件变量。\n",
    "想象一个这样的问题：\n",
    "\n",
    "我们有一个Y变量，这个Y变量和$X_1$、$X_2$相关，还有一个变量$X_3$。那我要知道$Y$和$X_3$是否相关应该怎么计算？\n",
    "\n",
    "肯定是应该要剔除掉$X_1$、$X_2$对$Y$、对$X_3$的影响。那么计算$Y$和$X_3$的相关性就是为：\n",
    "\n",
    "$\\gamma(X_3, Y) = \\frac{Cov(X_3, Y | X_1,X_2)}{\\sqrt{Var(X_3|X_1,X_2)Var(Y|X_1, X_2)}}$\n",
    "\n",
    "那么对于一个时间序列来说，$X_t$ 和$X_{t-h}$之间的偏自相关系数：就是基于 $X_{t-h+1}$、$X_{t-h+2}$、$X_{t-h+3}$、…… $X_{t-1}$对$X_t$ 和$X_{t-h}$的影响，计算$X_t$ 和$X_{t-h}$之间相关系数。\n",
    "\n",
    "## 偏自相关计算公式：\n",
    "1. 当h=1的时候，我们考虑的就是$X_t$ 和$X_{t-1}$之间的偏自相关系数,这个时候中间是没有别的条件序列的，所以偏自相关系数就是等于自相关系数。\n",
    "2. 当h=2的时候，我们考虑的就是$X_t$ 和$X_{t-2}$之间的偏自相关系数，这个时候中间的条件序列就是$X_{t-1}$，所以偏自相关系数就是为:\n",
    "\n",
    "$\\gamma(X_{t-2}, X_t) = \\frac{Cov(X_{t-2}, X_t| X_{t-1})}{\\sqrt{Var(X_{t-2}|X_{t-1})Var(X_{t}|X_{t-1})}}$.\n",
    "\n",
    "3. 当h=3的时候，我们考虑的就是$X_t$ 和$X_{t-3}$之间的偏自相关系数，这个时候中间的条件序列就是$X_{t-1}$、$X_{t-2}$，所以偏自相关系数就是为:\n",
    "\n",
    "$\\gamma(X_{t-3}, X_t) = \\frac{Cov(X_{t-3}， X_t | X_{t-1}，X_{t-2} )}{\\sqrt{Var(X_{t-3} | X_{t-1}，X_{t-2} ) Var(X_{t} | X_{t-1}，X_{t-2} )}}$.\n",
    "\n",
    "4. 依次类推。\n",
    "\n",
    "## 偏自相关计算：\n",
    "\n",
    "1. 使用statsmodels的pacf函数，这个函数可以选择不同的计算方法，有使用ols方法的，也有使用Yule-Walker方法的。\n",
    "2. 除了方法1调用包，我们还可以使用公式方法，分别使用ols方法、使用Yule-Walker方法来计算pacf的系数。实际上算出来的结果和statsmodels的pacf函数算出来的结果是一模一样的。\n",
    "\n",
    "在下面的代码块中，我们使用statsmodels包里面的pacf、pacf_ols、pacf_yw函数计算偏自相关系数，另外我们自己通过ols理论和Yule-Walker理论计算偏自相关系数。"
   ]
  },
  {
   "cell_type": "code",
   "execution_count": 64,
   "metadata": {
    "pycharm": {
     "name": "#%%\n"
    }
   },
   "outputs": [
    {
     "data": {
      "text/html": [
       "<div>\n",
       "<style scoped>\n",
       "    .dataframe tbody tr th:only-of-type {\n",
       "        vertical-align: middle;\n",
       "    }\n",
       "\n",
       "    .dataframe tbody tr th {\n",
       "        vertical-align: top;\n",
       "    }\n",
       "\n",
       "    .dataframe thead th {\n",
       "        text-align: right;\n",
       "    }\n",
       "</style>\n",
       "<table border=\"1\" class=\"dataframe\">\n",
       "  <thead>\n",
       "    <tr style=\"text-align: right;\">\n",
       "      <th></th>\n",
       "      <th>pacf</th>\n",
       "      <th>pacf_ols</th>\n",
       "      <th>pacf_yw</th>\n",
       "      <th>pacf_ols_bymyself</th>\n",
       "      <th>pacf_yw_bymyself</th>\n",
       "    </tr>\n",
       "  </thead>\n",
       "  <tbody>\n",
       "    <tr>\n",
       "      <th>0</th>\n",
       "      <td>1.000000</td>\n",
       "      <td>1.000000</td>\n",
       "      <td>1.000000</td>\n",
       "      <td>1.000000</td>\n",
       "      <td>1.000000</td>\n",
       "    </tr>\n",
       "    <tr>\n",
       "      <th>1</th>\n",
       "      <td>0.997827</td>\n",
       "      <td>0.997827</td>\n",
       "      <td>0.904116</td>\n",
       "      <td>0.997827</td>\n",
       "      <td>0.904116</td>\n",
       "    </tr>\n",
       "    <tr>\n",
       "      <th>2</th>\n",
       "      <td>-0.700485</td>\n",
       "      <td>-0.700485</td>\n",
       "      <td>-0.122213</td>\n",
       "      <td>-0.700485</td>\n",
       "      <td>-0.122213</td>\n",
       "    </tr>\n",
       "    <tr>\n",
       "      <th>3</th>\n",
       "      <td>-0.051486</td>\n",
       "      <td>-0.051486</td>\n",
       "      <td>-0.136953</td>\n",
       "      <td>-0.051486</td>\n",
       "      <td>-0.136953</td>\n",
       "    </tr>\n",
       "    <tr>\n",
       "      <th>4</th>\n",
       "      <td>-0.575253</td>\n",
       "      <td>-0.575253</td>\n",
       "      <td>-0.144965</td>\n",
       "      <td>-0.575253</td>\n",
       "      <td>-0.144965</td>\n",
       "    </tr>\n",
       "    <tr>\n",
       "      <th>5</th>\n",
       "      <td>-0.226133</td>\n",
       "      <td>-0.226133</td>\n",
       "      <td>-0.156852</td>\n",
       "      <td>-0.226133</td>\n",
       "      <td>-0.156852</td>\n",
       "    </tr>\n",
       "  </tbody>\n",
       "</table>\n",
       "</div>"
      ],
      "text/plain": [
       "       pacf  pacf_ols   pacf_yw  pacf_ols_bymyself  pacf_yw_bymyself\n",
       "0  1.000000  1.000000  1.000000           1.000000          1.000000\n",
       "1  0.997827  0.997827  0.904116           0.997827          0.904116\n",
       "2 -0.700485 -0.700485 -0.122213          -0.700485         -0.122213\n",
       "3 -0.051486 -0.051486 -0.136953          -0.051486         -0.136953\n",
       "4 -0.575253 -0.575253 -0.144965          -0.575253         -0.144965\n",
       "5 -0.226133 -0.226133 -0.156852          -0.226133         -0.156852"
      ]
     },
     "execution_count": 64,
     "metadata": {},
     "output_type": "execute_result"
    }
   ],
   "source": [
    "# 使用statsmodels包的pacf函数\n",
    "from statsmodels.tsa.stattools import pacf,pacf_ols,pacf_yw\n",
    "from scipy.linalg import toeplitz\n",
    "\n",
    "# 自己实现用ols求解pacf的函数\n",
    "from numpy.dual import lstsq\n",
    "from statsmodels.tools import add_constant\n",
    "from statsmodels.tsa.tsatools import lagmat\n",
    "\n",
    "def cal_my_pacf_ols(x, nlags=5):\n",
    "    \"\"\"\n",
    "    自己实现pacf，原理使用的就是ols(最小二乘法)\n",
    "    :param x:\n",
    "    :param nlags:\n",
    "    :return:\n",
    "    \"\"\"\n",
    "    pacf = np.empty(nlags+1) * 0\n",
    "    pacf[0] = 1.0\n",
    "\n",
    "    xlags, x0 = lagmat(x, nlags, original=\"sep\")\n",
    "    xlags = add_constant(xlags)\n",
    "\n",
    "    for k in range(1, nlags+1):\n",
    "        params = lstsq(xlags[k:, :(k+1)], x0[k:], rcond=None)[0]\n",
    "        pacf[k] = params[-1]\n",
    "\n",
    "    return pacf\n",
    "\n",
    "\n",
    "\n",
    "\n",
    "def cal_my_yule_walker(x, nlags=5):\n",
    "    \"\"\"\n",
    "    自己实现yule_walker理论\n",
    "    :param x:\n",
    "    :param nlags:\n",
    "    :return:\n",
    "    \"\"\"\n",
    "    x = np.array(x, dtype=np.float64)\n",
    "    x -= x.mean()\n",
    "    n = x.shape[0]\n",
    "\n",
    "    r = np.zeros(shape=nlags+1, dtype=np.float64)\n",
    "    r[0] = (x ** 2).sum()/n\n",
    "\n",
    "    for k in range(1, nlags+1):\n",
    "        r[k] = (x[0:-k] * x[k:]).sum() / (n-k*1)\n",
    "\n",
    "\n",
    "    R = toeplitz(c=r[:-1])\n",
    "    result = np.linalg.solve(R, r[1:])\n",
    "    return result\n",
    "\n",
    "def cal_my_pacf_yw(x, nlags=5):\n",
    "    \"\"\"\n",
    "    自己通过yule_walker方法求出pacf的值\n",
    "    :param x:\n",
    "    :param nlags:\n",
    "    :return:\n",
    "    \"\"\"\n",
    "    pacf = np.empty(nlags+1) * 0\n",
    "    pacf[0] = 1.0\n",
    "    for k in range(1, nlags+1):\n",
    "        pacf[k] = cal_my_yule_walker(x,nlags=k)[-1]\n",
    "\n",
    "    return pacf\n",
    "\n",
    "cal_my_pacf_yw(x=data.values)\n",
    "\n",
    "# 结果比较\n",
    "\n",
    "pd.DataFrame({'pacf':pacf(data.value,nlags=5, method='ols'),\n",
    "              'pacf_ols':pacf_ols(data.value,nlags=5),\n",
    "              'pacf_yw':pacf_yw(data.value,nlags=5),\n",
    "              'pacf_ols_bymyself':cal_my_pacf_ols(x=data.values),\n",
    "              'pacf_yw_bymyself':cal_my_pacf_yw(x=data.values)})\n",
    "\n"
   ]
  },
  {
   "cell_type": "markdown",
   "metadata": {
    "pycharm": {
     "name": "#%% md\n"
    }
   },
   "source": [
    "## 偏自相关系数画图\n",
    "\n",
    "画图有两种方法：\n",
    "1. 直接使用`statsmodels`的`plot_pacf`;\n",
    "2. 使用`pacf`函数来计算数据，得到数据后再进行可视化，这种一般便于自己定制，也方便自己做更多的细节调整之类的。"
   ]
  },
  {
   "cell_type": "code",
   "execution_count": 94,
   "metadata": {
    "pycharm": {
     "name": "#%%\n"
    }
   },
   "outputs": [
    {
     "data": {
      "text/plain": "(-1.0, 16.5)"
     },
     "execution_count": 94,
     "metadata": {},
     "output_type": "execute_result"
    },
    {
     "data": {
      "text/plain": "<Figure size 1000x600 with 2 Axes>",
      "image/png": "[encoded data removed]"
     },
     "metadata": {
      "needs_background": "light"
     },
     "output_type": "display_data"
    }
   ],
   "source": [
    "sunspotarea = pd.read_csv(\"../datasets/sunspotarea.csv\",parse_dates=['date'])\n",
    "\n",
    "\n",
    "# 自己画一个\n",
    "# 自己计算\n",
    "pacf_value, pacf_interval = pacf(sunspotarea.value,nlags=15,alpha=0.05)\n",
    "\n",
    "xlabel = np.arange(start=0, stop=pacf_value.shape[0], dtype='float')\n",
    "\n",
    "fig, ax = plt.subplots(nrows=2, figsize=(10,6), sharex=True, dpi=100)\n",
    "ax[0].hlines(y=0, xmin=np.min(xlabel)-2, xmax=np.max(xlabel)+2, colors='red', linewidth=0.5)\n",
    "ax[0].scatter(x=xlabel, y=pacf_value, c='red')\n",
    "ax[0].vlines(x = xlabel, ymin=0, ymax=pacf_value, colors='red', linewidth=0.5)\n",
    "xlabel[1] -= 0.5\n",
    "xlabel[-1] += 0.5\n",
    "ax[0].fill_between(x=xlabel[1:], y1=pacf_interval[1:,0] - pacf_value[1:], y2=pacf_interval[1:, 1]-pacf_value[1:], alpha=0.25, linewidth=0, color='red')\n",
    "ax[0].set_title(\"pacf plot by myself\")\n",
    "\n",
    "\n",
    "# 使用别人写好的函数\n",
    "\n",
    "\n",
    "from statsmodels.graphics.tsaplots import plot_pacf\n",
    "plot_pacf(sunspotarea.value, ax=ax[1], lags=15)\n",
    "ax[1].set_title(\"pacf plot by statsmodels\")\n",
    "ax[1].set_xlim(-1, np.max(xlabel)+1)\n"
   ]
  },
  {
   "cell_type": "code",
   "execution_count": null,
   "outputs": [],
   "source": [],
   "metadata": {
    "collapsed": false,
    "pycharm": {
     "name": "#%%\n"
    }
   }
  }
 ],
 "metadata": {
  "kernelspec": {
   "display_name": "Python 3",
   "language": "python",
   "name": "python3"
  },
  "language_info": {
   "codemirror_mode": {
    "name": "ipython",
    "version": 3
   },
   "file_extension": ".py",
   "mimetype": "text/x-python",
   "name": "python",
   "nbconvert_exporter": "python",
   "pygments_lexer": "ipython3",
   "version": "3.8.8"
  },
  "toc": {
   "base_numbering": 1,
   "nav_menu": {},
   "number_sections": true,
   "sideBar": true,
   "skip_h1_title": false,
   "title_cell": "Table of Contents",
   "title_sidebar": "Contents",
   "toc_cell": false,
   "toc_position": {},
   "toc_section_display": true,
   "toc_window_display": true
  }
 },
 "nbformat": 4,
 "nbformat_minor": 1
}